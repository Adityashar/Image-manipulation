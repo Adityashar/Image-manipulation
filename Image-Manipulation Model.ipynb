{
 "cells": [
  {
   "cell_type": "code",
   "execution_count": 2,
   "metadata": {},
   "outputs": [],
   "source": [
    "import numpy as np\n",
    "import matplotlib.pyplot as plt\n",
    "import pandas as pd"
   ]
  },
  {
   "cell_type": "code",
   "execution_count": 12,
   "metadata": {},
   "outputs": [],
   "source": [
    "from keras.utils import to_categorical\n",
    "from keras.models import Sequential\n",
    "from keras.layers import Dense, Flatten, Dropout, Conv2D, MaxPooling2D, BatchNormalization\n",
    "from keras.optimizers import Adam, SGD\n",
    "from keras.preprocessing.image import ImageDataGenerator"
   ]
  },
  {
   "cell_type": "code",
   "execution_count": 4,
   "metadata": {},
   "outputs": [],
   "source": [
    "from sklearn.preprocessing import MinMaxScaler\n",
    "from sklearn.model_selection import train_test_split\n",
    "import cv2\n",
    "import pickle"
   ]
  },
  {
   "cell_type": "code",
   "execution_count": 5,
   "metadata": {},
   "outputs": [],
   "source": [
    "Data_generator = ImageDataGenerator(featurewise_center=False,\n",
    "                                    featurewise_std_normalization=False,\n",
    "                                    rotation_range=10,\n",
    "                                    width_shift_range=0.1,\n",
    "                                    height_shift_range=0.1,\n",
    "                                    zoom_range=0.1,\n",
    "                                    horizontal_flip=True)"
   ]
  },
  {
   "cell_type": "code",
   "execution_count": 1,
   "metadata": {},
   "outputs": [],
   "source": [
    "from keras.initializers import glorot_normal\n",
    "from keras.initializers import Constant"
   ]
  },
  {
   "cell_type": "code",
   "execution_count": 10,
   "metadata": {},
   "outputs": [],
   "source": [
    "def Model():\n",
    "    model = Sequential()\n",
    "    \n",
    "    #First Conv2D Layer\n",
    "    model.add(Conv2D(3, (5, 5), activation = 'tanh', padding = 'valid', input_shape = (256, 256, 1), kernel_initializer = glorot_normal(), bias_initializer = Constant()))\n",
    "    \n",
    "    model.add(Conv2D(96, (7, 7), activation = 'tanh', padding = 'same', strides = (2, 2), kernel_initializer = glorot_normal(), bias_initializer = Constant()))\n",
    "    model.add(BatchNormalization())\n",
    "    model.add(MaxPooling2D(pool_size =(2, 2)))\n",
    "    \n",
    "    model.add(Conv2D(64, (5, 5), activation = 'tanh', padding = 'same', strides = (1, 1), kernel_initializer = glorot_normal(), bias_initializer = Constant()))\n",
    "    model.add(BatchNormalization())\n",
    "    model.add(MaxPooling2D(pool_size =(2, 2)))\n",
    "    \n",
    "    model.add(Conv2D(64, (5, 5), activation = 'tanh', padding = 'same', strides = (1, 1), kernel_initializer = glorot_normal(), bias_initializer = Constant()))\n",
    "    model.add(BatchNormalization())\n",
    "    model.add(MaxPooling2D(pool_size =(2, 2)))\n",
    "    \n",
    "    model.add(Conv2D(128, (1, 1), activation = 'tanh', padding = 'same', strides = (1, 1), kernel_initializer = glorot_normal(), bias_initializer = Constant()))\n",
    "    model.add(BatchNormalization())\n",
    "    model.add(MaxPooling2D(pool_size =(2, 2)))\n",
    "    \n",
    "    model.add(Flatten())\n",
    "    \n",
    "    model.add(Dense(200, activation = 'tanh', kernel_initializer = glorot_normal(), bias_initializer = Constant()))\n",
    "    model.add(Dense(200, activation = 'tanh', kernel_initializer = glorot_normal(), bias_initializer = Constant()))\n",
    "    \n",
    "    model.add(Dense(2, activation = 'softmax', kernel_initializer = glorot_normal(), bias_initializer = Constant()))\n",
    "    \n",
    "    return model"
   ]
  },
  {
   "cell_type": "code",
   "execution_count": 11,
   "metadata": {},
   "outputs": [
    {
     "name": "stdout",
     "output_type": "stream",
     "text": [
      "_________________________________________________________________\n",
      "Layer (type)                 Output Shape              Param #   \n",
      "=================================================================\n",
      "conv2d_3 (Conv2D)            (None, 252, 252, 3)       78        \n",
      "_________________________________________________________________\n",
      "conv2d_4 (Conv2D)            (None, 126, 126, 96)      14208     \n",
      "_________________________________________________________________\n",
      "batch_normalization_1 (Batch (None, 126, 126, 96)      384       \n",
      "_________________________________________________________________\n",
      "max_pooling2d_1 (MaxPooling2 (None, 63, 63, 96)        0         \n",
      "_________________________________________________________________\n",
      "conv2d_5 (Conv2D)            (None, 63, 63, 64)        153664    \n",
      "_________________________________________________________________\n",
      "batch_normalization_2 (Batch (None, 63, 63, 64)        256       \n",
      "_________________________________________________________________\n",
      "max_pooling2d_2 (MaxPooling2 (None, 31, 31, 64)        0         \n",
      "_________________________________________________________________\n",
      "conv2d_6 (Conv2D)            (None, 31, 31, 64)        102464    \n",
      "_________________________________________________________________\n",
      "batch_normalization_3 (Batch (None, 31, 31, 64)        256       \n",
      "_________________________________________________________________\n",
      "max_pooling2d_3 (MaxPooling2 (None, 15, 15, 64)        0         \n",
      "_________________________________________________________________\n",
      "conv2d_7 (Conv2D)            (None, 15, 15, 128)       8320      \n",
      "_________________________________________________________________\n",
      "batch_normalization_4 (Batch (None, 15, 15, 128)       512       \n",
      "_________________________________________________________________\n",
      "max_pooling2d_4 (MaxPooling2 (None, 7, 7, 128)         0         \n",
      "_________________________________________________________________\n",
      "flatten_1 (Flatten)          (None, 6272)              0         \n",
      "_________________________________________________________________\n",
      "dense_1 (Dense)              (None, 200)               1254600   \n",
      "_________________________________________________________________\n",
      "dense_2 (Dense)              (None, 200)               40200     \n",
      "_________________________________________________________________\n",
      "dense_3 (Dense)              (None, 2)                 402       \n",
      "=================================================================\n",
      "Total params: 1,575,344\n",
      "Trainable params: 1,574,640\n",
      "Non-trainable params: 704\n",
      "_________________________________________________________________\n"
     ]
    }
   ],
   "source": [
    "model = Model()\n",
    "model.summary()"
   ]
  },
  {
   "cell_type": "code",
   "execution_count": 15,
   "metadata": {},
   "outputs": [],
   "source": [
    "import pickle\n",
    "\n",
    "with open('.\\opencv\\image_train.pkl','rb') as f:\n",
    "    x = pickle.load(f)"
   ]
  },
  {
   "cell_type": "code",
   "execution_count": 19,
   "metadata": {},
   "outputs": [],
   "source": [
    "with open('.\\opencv\\image_test.pkl','rb') as f:\n",
    "    y = pickle.load(f)"
   ]
  },
  {
   "cell_type": "code",
   "execution_count": 25,
   "metadata": {},
   "outputs": [],
   "source": [
    "train_x = x\n",
    "train_y = y2"
   ]
  },
  {
   "cell_type": "code",
   "execution_count": null,
   "metadata": {},
   "outputs": [
    {
     "name": "stderr",
     "output_type": "stream",
     "text": [
      "C:\\Users\\asus\\Anaconda3\\lib\\site-packages\\sklearn\\utils\\validation.py:595: DataConversionWarning: Data with input dtype uint8 was converted to float64 by MinMaxScaler.\n",
      "  warnings.warn(msg, DataConversionWarning)\n"
     ]
    }
   ],
   "source": [
    "from sklearn.preprocessing import MinMaxScaler\n",
    "\n",
    "Scale = MinMaxScaler(feature_range = (0, 1))\n",
    "data = train_x.reshape(-1, 256*256)\n",
    "data = Scale.fit_transform(data)\n",
    "train_x = data.reshape(-1, 256, 256, 1)"
   ]
  },
  {
   "cell_type": "code",
   "execution_count": null,
   "metadata": {},
   "outputs": [],
   "source": []
  },
  {
   "cell_type": "code",
   "execution_count": 13,
   "metadata": {},
   "outputs": [],
   "source": [
    "batch_size = 32\n",
    "epochs = 10\n",
    "model.compile(loss = 'categorical_crossentropy', metrics=['accuracy'], optimizer= SGD())"
   ]
  },
  {
   "cell_type": "code",
   "execution_count": null,
   "metadata": {},
   "outputs": [],
   "source": [
    "model.fit_generator(Data_generator.flow(x_train, y_train, batch_size = batch_size), steps_per_epoch=len(x_train)/batch_size, epochs= epochs)"
   ]
  }
 ],
 "metadata": {
  "kernelspec": {
   "display_name": "Python 3",
   "language": "python",
   "name": "python3"
  },
  "language_info": {
   "codemirror_mode": {
    "name": "ipython",
    "version": 3
   },
   "file_extension": ".py",
   "mimetype": "text/x-python",
   "name": "python",
   "nbconvert_exporter": "python",
   "pygments_lexer": "ipython3",
   "version": "3.6.7"
  }
 },
 "nbformat": 4,
 "nbformat_minor": 2
}
